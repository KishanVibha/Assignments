{
 "cells": [
  {
   "cell_type": "markdown",
   "id": "e4fe3dde-8d40-440b-bf8b-950175068d09",
   "metadata": {},
   "source": [
    "## 1.\tWrite a Python program to print \"Hello Python\"?"
   ]
  },
  {
   "cell_type": "code",
   "execution_count": 1,
   "id": "e9a46a17-a747-4e88-8703-d0b8d68b61bb",
   "metadata": {},
   "outputs": [
    {
     "name": "stdout",
     "output_type": "stream",
     "text": [
      "Hello Python\n"
     ]
    }
   ],
   "source": [
    "print(\"Hello Python\")"
   ]
  },
  {
   "cell_type": "markdown",
   "id": "732b6866-4389-4578-91e1-1f9cb85f56ca",
   "metadata": {},
   "source": [
    "## 2.\tWrite a Python program to do arithmetical operations addition and division.?"
   ]
  },
  {
   "cell_type": "code",
   "execution_count": 4,
   "id": "e3466725-5794-4a01-a423-54e6228862dc",
   "metadata": {},
   "outputs": [
    {
     "name": "stdout",
     "output_type": "stream",
     "text": [
      "Sum: 15\n",
      "Division: 2.0\n"
     ]
    }
   ],
   "source": [
    "# Define two numbers\n",
    "num1 = 10\n",
    "num2 = 5\n",
    "\n",
    "# Perform addition and division operations\n",
    "addition = num1 + num2\n",
    "division = num1 / num2\n",
    "\n",
    "# Display the results\n",
    "print(\"Sum:\", addition)\n",
    "print(\"Division:\", division)\n"
   ]
  },
  {
   "cell_type": "code",
   "execution_count": 6,
   "id": "6cc543f3-ada5-462b-9928-3e1dceea63cf",
   "metadata": {},
   "outputs": [
    {
     "name": "stdin",
     "output_type": "stream",
     "text": [
      "Enter the first number:  225\n",
      "Enter the second number:  15\n"
     ]
    },
    {
     "name": "stdout",
     "output_type": "stream",
     "text": [
      "Sum: 240.0\n",
      "Division: 15.0\n"
     ]
    }
   ],
   "source": [
    "# Get user input for two numbers\n",
    "num1 = float(input(\"Enter the first number: \"))\n",
    "num2 = float(input(\"Enter the second number: \"))\n",
    "\n",
    "# Perform addition and division operations\n",
    "addition = num1 + num2\n",
    "division = num1 / num2\n",
    "\n",
    "# Display the results\n",
    "print(\"Sum:\", addition)\n",
    "print(\"Division:\", division)\n"
   ]
  },
  {
   "cell_type": "markdown",
   "id": "af39cc82-801f-4172-aa3a-0e59b06594cf",
   "metadata": {},
   "source": [
    "## 3.\tWrite a Python program to find the area of a triangle?"
   ]
  },
  {
   "cell_type": "code",
   "execution_count": 12,
   "id": "226bab02-2800-46e4-89c2-a68281f92b3e",
   "metadata": {},
   "outputs": [
    {
     "name": "stdout",
     "output_type": "stream",
     "text": [
      "Area: 17.5\n"
     ]
    }
   ],
   "source": [
    "# Define length and height\n",
    "L = 5\n",
    "H = 7\n",
    "\n",
    "# Calculate the area of the triangle\n",
    "A = 0.5 * L * H\n",
    "\n",
    "# Display the result\n",
    "print(\"Area:\", A)\n"
   ]
  },
  {
   "cell_type": "markdown",
   "id": "2d21e0fe-6fc2-4c40-b299-8d38f98fde3e",
   "metadata": {},
   "source": [
    "## 4.\tWrite a Python program to swap two variables?"
   ]
  },
  {
   "cell_type": "code",
   "execution_count": 15,
   "id": "3c366972-fe27-486c-b1ad-39b589bec2f9",
   "metadata": {},
   "outputs": [
    {
     "name": "stdin",
     "output_type": "stream",
     "text": [
      "Enter the first variable:  t\n",
      "Enter the second variable:  y\n"
     ]
    },
    {
     "name": "stdout",
     "output_type": "stream",
     "text": [
      "Original values:\n",
      "Variable 1: t\n",
      "Variable 2: y\n",
      "Swapped values:\n",
      "Variable 1: y\n",
      "Variable 2: t\n"
     ]
    }
   ],
   "source": [
    "# Get user input for two variables\n",
    "var1 = input(\"Enter the first variable: \")\n",
    "var2 = input(\"Enter the second variable: \")\n",
    "\n",
    "# Display the original values\n",
    "print(\"Original values:\")\n",
    "print(\"Variable 1:\", var1)\n",
    "print(\"Variable 2:\", var2)\n",
    "\n",
    "# Swap the values using tuple unpacking\n",
    "var1, var2 = var2, var1\n",
    "\n",
    "# Display the swapped values\n",
    "print(\"Swapped values:\")\n",
    "print(\"Variable 1:\", var1)\n",
    "print(\"Variable 2:\", var2)\n"
   ]
  },
  {
   "cell_type": "markdown",
   "id": "8af99bdf-026f-4f43-95fa-410e4e3eea2b",
   "metadata": {},
   "source": [
    "## 5.\tWrite a Python program to generate a random number?"
   ]
  },
  {
   "cell_type": "code",
   "execution_count": 16,
   "id": "789db539-cd21-4477-876e-03091c2ba207",
   "metadata": {},
   "outputs": [
    {
     "name": "stdout",
     "output_type": "stream",
     "text": [
      "Random number: 64\n"
     ]
    }
   ],
   "source": [
    "import random\n",
    "\n",
    "# Generate a random integer between a specified range (e.g., between 1 and 100)\n",
    "random_number = random.randint(1, 100)\n",
    "\n",
    "# Display the random number\n",
    "print(\"Random number:\", random_number)\n"
   ]
  }
 ],
 "metadata": {
  "kernelspec": {
   "display_name": "Python 3 (ipykernel)",
   "language": "python",
   "name": "python3"
  },
  "language_info": {
   "codemirror_mode": {
    "name": "ipython",
    "version": 3
   },
   "file_extension": ".py",
   "mimetype": "text/x-python",
   "name": "python",
   "nbconvert_exporter": "python",
   "pygments_lexer": "ipython3",
   "version": "3.10.6"
  }
 },
 "nbformat": 4,
 "nbformat_minor": 5
}
